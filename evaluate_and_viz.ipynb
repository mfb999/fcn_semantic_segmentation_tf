{
 "cells": [
  {
   "cell_type": "code",
   "execution_count": 1,
   "metadata": {},
   "outputs": [],
   "source": [
    "from __future__ import print_function\n",
    "import os\n",
    "os.environ[\"CUDA_DEVICE_ORDER\"]=\"PCI_BUS_ID\"\n",
    "os.environ[\"CUDA_VISIBLE_DEVICES\"]=\"0\"\n",
    "import yaml\n",
    "import pprint\n",
    "import argparse\n",
    "import numpy as np\n",
    "import tensorflow as tf\n",
    "from src.model_fcn32s import FCN32s\n",
    "from src.data_loader import dataLoader\n",
    "import matplotlib.pyplot as plt\n",
    "%matplotlib inline"
   ]
  },
  {
   "cell_type": "code",
   "execution_count": 2,
   "metadata": {},
   "outputs": [],
   "source": [
    "def rev_pascal_palette():\n",
    "    palette = { 0: (  0,   0,   0),\n",
    "                1: (128,   0,   0),\n",
    "                2: (  0, 128,   0),\n",
    "                3: (128, 128,   0),\n",
    "                4: (  0,   0, 128),\n",
    "                5: (128,   0, 128),\n",
    "                6: (  0, 128, 128),\n",
    "                7: (128, 128, 128),\n",
    "                8: ( 64,   0,   0),\n",
    "                9: (192,   0,   0),\n",
    "                10: ( 64, 128,   0),\n",
    "                11: (192, 128,   0),\n",
    "                12: ( 64,   0, 128),\n",
    "                13: (192,   0, 128),\n",
    "                14: ( 64, 128, 128),\n",
    "                15: (192, 128, 128),\n",
    "                16: (  0,  64,   0),\n",
    "                17: (128,  64,   0),\n",
    "                18: (  0, 192,   0),\n",
    "                19: (128, 192,   0),\n",
    "                20: (  0,  64, 128)}\n",
    "\n",
    "    return palette\n",
    "\n",
    "def convert_from_segmentation_color(arr_2d):\n",
    "    '''\n",
    "    Function for converting Labels into RGB\n",
    "    '''\n",
    "    arr_3d  = np.zeros((arr_2d.shape[0], arr_2d.shape[1], 3), dtype=np.uint8)\n",
    "    palette = rev_pascal_palette()\n",
    "    # slow!\n",
    "    for i in range(0, arr_2d.shape[0]):\n",
    "        for j in range(0, arr_2d.shape[1]):\n",
    "            key = arr_2d[i,j]\n",
    "            arr_3d[i,j,:] = palette.get(key, 0) # default value if key was not found is 0\n",
    "\n",
    "    return arr_3d"
   ]
  },
  {
   "cell_type": "code",
   "execution_count": 3,
   "metadata": {},
   "outputs": [],
   "source": [
    "def show_segmentation(image, label, pred):\n",
    "    \"\"\"\n",
    "    Show image with label\n",
    "    \"\"\"\n",
    "    label = np.argmax(label, axis=-1)\n",
    "    label_color = convert_from_segmentation_color(arr_2d=label)\n",
    "    pred  = np.argmax(pred, axis=-1)\n",
    "    pred_color = convert_from_segmentation_color(arr_2d=pred)\n",
    "    #---------------------------\n",
    "    plt.subplot(1, 3, 1)\n",
    "    plt.title('Input')\n",
    "    plt.imshow(image[..., ::-1])\n",
    "    plt.axis('off')\n",
    "    #---------------------------\n",
    "    plt.subplot(1, 3, 2)\n",
    "    plt.title('Ground-Truth')\n",
    "    plt.imshow(label_color)\n",
    "    plt.axis('off')\n",
    "    #---------------------------\n",
    "    plt.subplot(1, 3, 3)\n",
    "    plt.title('Prediction')\n",
    "    plt.imshow(pred_color)\n",
    "    plt.axis('off')    \n",
    "    \n",
    "    plt.show()"
   ]
  },
  {
   "cell_type": "code",
   "execution_count": 4,
   "metadata": {},
   "outputs": [],
   "source": [
    "config_file = './config_files/config_fcn32s_test.yaml'"
   ]
  },
  {
   "cell_type": "code",
   "execution_count": 5,
   "metadata": {},
   "outputs": [],
   "source": [
    "with open(config_file) as f:\n",
    "        config = yaml.load(f)"
   ]
  },
  {
   "cell_type": "code",
   "execution_count": 6,
   "metadata": {},
   "outputs": [],
   "source": [
    "flags = tf.app.flags\n",
    "flags.DEFINE_string(\"dataset_name\",         config['dataset_name'],          \"Dataset Name\")\n",
    "flags.DEFINE_string(\"exp_dir\",              config['exp_dir'],               \"Experiment directory\")\n",
    "flags.DEFINE_string(\"test_dataset_dir\",     config['test_dataset_dir'],      \"Test Dataset directory\")\n",
    "flags.DEFINE_string(\"test_name\",            config['test_name'],             \"Test File\")\n",
    "flags.DEFINE_integer('num_classes',         config['num_classes'],           \"Total classes\")\n",
    "flags.DEFINE_string(\"type2\",                config['type2'],                 \"Dataset type-- sbd/voc\")\n",
    "flags.DEFINE_string(\"checkpoint_dir\",       config['ckpt_dir'],              \"Dir to save the checkpoints\")\n",
    "flags.DEFINE_bool(\"continue_train\",         config['continue_train'],       \"Continue Train\")\n",
    "flags.DEFINE_string(\"init_checkpoint_file\", config['init_checkpoint_file'],  \"Checkpoint file\")\n",
    "flags.DEFINE_string(\"mode\",                 \"Test\",                         \"Train/Test\")\n",
    "flags.DEFINE_integer(\"test_batch_size\",     config['test_batch_size'],       \"The size of of a sample batch\")\n",
    "flags.DEFINE_string(\"train_model\",          config['train_model'],           \"Which model to train\")\n",
    "flags.DEFINE_integer(\"global_step\",         config['global_step'],           \"Starting Global step\")\n",
    "FLAGS = flags.FLAGS"
   ]
  },
  {
   "cell_type": "code",
   "execution_count": 7,
   "metadata": {},
   "outputs": [],
   "source": [
    "# Build Model\n",
    "model = FCN32s(FLAGS)\n",
    "model.build_test_graph()"
   ]
  },
  {
   "cell_type": "code",
   "execution_count": 8,
   "metadata": {},
   "outputs": [],
   "source": [
    "opt = FLAGS"
   ]
  },
  {
   "cell_type": "code",
   "execution_count": 9,
   "metadata": {},
   "outputs": [
    {
     "name": "stdout",
     "output_type": "stream",
     "text": [
      "Dataset Loaded!\n"
     ]
    }
   ],
   "source": [
    "# Test Data Loader\n",
    "test_loader  = dataLoader(opt.test_dataset_dir, opt.test_name, 224, 224,\n",
    "                          mode='Test', dtype=opt.type2)\n",
    "test_gen     = test_loader.gen_data_batch(batch_size=opt.test_batch_size)"
   ]
  },
  {
   "cell_type": "markdown",
   "metadata": {},
   "source": [
    "### Test"
   ]
  },
  {
   "cell_type": "code",
   "execution_count": 10,
   "metadata": {},
   "outputs": [],
   "source": [
    "# Set GPU options\n",
    "config = tf.GPUOptions(allow_growth=True)\n",
    "\n",
    "# To save model\n",
    "init_op = tf.group(tf.global_variables_initializer(),\\\n",
    "                   tf.local_variables_initializer())\n",
    "saver   = tf.train.Saver(max_to_keep=5)"
   ]
  },
  {
   "cell_type": "code",
   "execution_count": 11,
   "metadata": {},
   "outputs": [],
   "source": [
    "all_img = []\n",
    "all_lbl = []\n",
    "all_out = []"
   ]
  },
  {
   "cell_type": "code",
   "execution_count": 12,
   "metadata": {},
   "outputs": [],
   "source": [
    "# Checkpoint_path\n",
    "ckpt_dir_path = os.path.join(opt.exp_dir, opt.dataset_name, opt.checkpoint_dir)"
   ]
  },
  {
   "cell_type": "code",
   "execution_count": 13,
   "metadata": {},
   "outputs": [
    {
     "name": "stdout",
     "output_type": "stream",
     "text": [
      "INFO:tensorflow:Restoring parameters from ./experiments/pascal_voc/checkpoint1/fcn32s_bp_0\n",
      "Resume training from previous checkpoint: fcn32s_bp_0\n",
      "Estimating Testing Accuracy....\n"
     ]
    }
   ],
   "source": [
    "with tf.Session(config=tf.ConfigProto(gpu_options=config)) as sess:\n",
    "    # Intialize the graph\n",
    "    sess.run(init_op)\n",
    "    \n",
    "    # Check if training has to be continued\n",
    "    if opt.continue_train:\n",
    "        if opt.init_checkpoint_file is None:\n",
    "            print('Enter a valid checkpoint file')\n",
    "        else:\n",
    "            load_model = os.path.join(ckpt_dir_path, opt.init_checkpoint_file)\n",
    "            saver.restore(sess, load_model)\n",
    "            sess.run(tf.assign(model.global_step, opt.global_step))\n",
    "            print(\"Resume training from previous checkpoint: %s\" % opt.init_checkpoint_file)\n",
    "\n",
    "    print('Estimating Testing Accuracy....')\n",
    "    total_steps = test_loader.max_steps//opt.test_batch_size\n",
    "    for j in range(total_steps):\n",
    "        val_images, val_labels = next(test_gen)\n",
    "        feed = {model.images: val_images,\n",
    "                model.labels: val_labels,\n",
    "                model.vgg_net.keep_prob: 1.0}\n",
    "        \n",
    "        output = sess.run(model.upscore, feed_dict=feed)\n",
    "        all_out.append(output)\n",
    "        all_img.append(val_images)\n",
    "        all_lbl.append(val_labels)\n",
    "\n",
    "# Close Session\n",
    "sess.close()"
   ]
  },
  {
   "cell_type": "code",
   "execution_count": 14,
   "metadata": {},
   "outputs": [
    {
     "name": "stdout",
     "output_type": "stream",
     "text": [
      "(1, 224, 224, 3) (1, 224, 224, 21)\n"
     ]
    }
   ],
   "source": [
    "print(val_images.shape, val_labels.shape)"
   ]
  },
  {
   "cell_type": "markdown",
   "metadata": {},
   "source": [
    "### Plot"
   ]
  },
  {
   "cell_type": "code",
   "execution_count": 15,
   "metadata": {},
   "outputs": [
    {
     "data": {
      "image/png": "[encoded data removed]",
      "text/plain": [
       "<matplotlib.figure.Figure at 0x7f633e122090>"
      ]
     },
     "metadata": {},
     "output_type": "display_data"
    }
   ],
   "source": [
    "show_segmentation(image=all_img[0][0], label=all_lbl[0][0], pred=all_out[0][0])\n"
   ]
  }
 ],
 "metadata": {
  "kernelspec": {
   "display_name": "Python 2",
   "language": "python",
   "name": "python2"
  },
  "language_info": {
   "codemirror_mode": {
    "name": "ipython",
    "version": 2
   },
   "file_extension": ".py",
   "mimetype": "text/x-python",
   "name": "python",
   "nbconvert_exporter": "python",
   "pygments_lexer": "ipython2",
   "version": "2.7.12+"
  }
 },
 "nbformat": 4,
 "nbformat_minor": 2
}
